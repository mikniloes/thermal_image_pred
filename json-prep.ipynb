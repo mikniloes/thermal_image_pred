{
 "cells": [
  {
   "cell_type": "markdown",
   "metadata": {},
   "source": [
    "#### json DataFrame으로 읽어오기"
   ]
  },
  {
   "cell_type": "code",
   "execution_count": 2,
   "metadata": {
    "scrolled": false
   },
   "outputs": [
    {
     "data": {
      "text/html": [
       "<div>\n",
       "<style scoped>\n",
       "    .dataframe tbody tr th:only-of-type {\n",
       "        vertical-align: middle;\n",
       "    }\n",
       "\n",
       "    .dataframe tbody tr th {\n",
       "        vertical-align: top;\n",
       "    }\n",
       "\n",
       "    .dataframe thead th {\n",
       "        text-align: right;\n",
       "    }\n",
       "</style>\n",
       "<table border=\"1\" class=\"dataframe\">\n",
       "  <thead>\n",
       "    <tr style=\"text-align: right;\">\n",
       "      <th></th>\n",
       "      <th>environmental_factors</th>\n",
       "      <th>image_id</th>\n",
       "      <th>individual_factors</th>\n",
       "      <th>technical_factors</th>\n",
       "    </tr>\n",
       "  </thead>\n",
       "  <tbody>\n",
       "    <tr>\n",
       "      <th>0</th>\n",
       "      <td>{'illumination': 328, 'temp_inside': 21.3, 'ca...</td>\n",
       "      <td>A1_H_T_20201110_120952</td>\n",
       "      <td>[{'camera_temp': 35.9, 'individual_temp': 36.1...</td>\n",
       "      <td>{'bbody_temp': '35\\u2103', 'netd': '\\u226450mK...</td>\n",
       "    </tr>\n",
       "    <tr>\n",
       "      <th>1</th>\n",
       "      <td>{'illumination': 328, 'temp_inside': 21.3, 'ca...</td>\n",
       "      <td>A1_H_T_20201110_122515</td>\n",
       "      <td>[{'camera_temp': 36.3, 'individual_temp': 36.7...</td>\n",
       "      <td>{'bbody_temp': '35\\u2103', 'netd': '\\u226450mK...</td>\n",
       "    </tr>\n",
       "    <tr>\n",
       "      <th>2</th>\n",
       "      <td>{'illumination': 328, 'temp_inside': 21.3, 'ca...</td>\n",
       "      <td>A1_H_T_20201110_124310</td>\n",
       "      <td>[{'camera_temp': 36.9, 'individual_temp': 37.3...</td>\n",
       "      <td>{'bbody_temp': '35\\u2103', 'netd': '\\u226450mK...</td>\n",
       "    </tr>\n",
       "    <tr>\n",
       "      <th>3</th>\n",
       "      <td>{'illumination': 328, 'temp_inside': 21.3, 'ca...</td>\n",
       "      <td>A1_H_T_20201110_125954</td>\n",
       "      <td>[{'camera_temp': 36.1, 'individual_temp': 36.8...</td>\n",
       "      <td>{'bbody_temp': '35\\u2103', 'netd': '\\u226450mK...</td>\n",
       "    </tr>\n",
       "    <tr>\n",
       "      <th>4</th>\n",
       "      <td>{'illumination': 326, 'temp_inside': 22.0, 'ca...</td>\n",
       "      <td>A1_H_T_20201110_131527</td>\n",
       "      <td>[{'camera_temp': 36.9, 'individual_temp': 36.6...</td>\n",
       "      <td>{'bbody_temp': '35\\u2103', 'netd': '\\u226450mK...</td>\n",
       "    </tr>\n",
       "  </tbody>\n",
       "</table>\n",
       "</div>"
      ],
      "text/plain": [
       "                               environmental_factors                image_id  \\\n",
       "0  {'illumination': 328, 'temp_inside': 21.3, 'ca...  A1_H_T_20201110_120952   \n",
       "1  {'illumination': 328, 'temp_inside': 21.3, 'ca...  A1_H_T_20201110_122515   \n",
       "2  {'illumination': 328, 'temp_inside': 21.3, 'ca...  A1_H_T_20201110_124310   \n",
       "3  {'illumination': 328, 'temp_inside': 21.3, 'ca...  A1_H_T_20201110_125954   \n",
       "4  {'illumination': 326, 'temp_inside': 22.0, 'ca...  A1_H_T_20201110_131527   \n",
       "\n",
       "                                  individual_factors  \\\n",
       "0  [{'camera_temp': 35.9, 'individual_temp': 36.1...   \n",
       "1  [{'camera_temp': 36.3, 'individual_temp': 36.7...   \n",
       "2  [{'camera_temp': 36.9, 'individual_temp': 37.3...   \n",
       "3  [{'camera_temp': 36.1, 'individual_temp': 36.8...   \n",
       "4  [{'camera_temp': 36.9, 'individual_temp': 36.6...   \n",
       "\n",
       "                                   technical_factors  \n",
       "0  {'bbody_temp': '35\\u2103', 'netd': '\\u226450mK...  \n",
       "1  {'bbody_temp': '35\\u2103', 'netd': '\\u226450mK...  \n",
       "2  {'bbody_temp': '35\\u2103', 'netd': '\\u226450mK...  \n",
       "3  {'bbody_temp': '35\\u2103', 'netd': '\\u226450mK...  \n",
       "4  {'bbody_temp': '35\\u2103', 'netd': '\\u226450mK...  "
      ]
     },
     "execution_count": 2,
     "metadata": {},
     "output_type": "execute_result"
    }
   ],
   "source": [
    "import pandas as pd\n",
    "import os\n",
    "import json\n",
    "\n",
    "df = pd.read_json('./json_100/json_100.json')\n",
    "df.head()"
   ]
  },
  {
   "cell_type": "code",
   "execution_count": 3,
   "metadata": {
    "scrolled": false
   },
   "outputs": [
    {
     "data": {
      "text/plain": [
       "[{'camera_temp': 35.9,\n",
       "  'individual_temp': 36.1,\n",
       "  'distance': 5,\n",
       "  'bbox': [898, 506, 224, 235],\n",
       "  'optional': {'gender': 'male',\n",
       "   'body_type': 'normal',\n",
       "   'mask_exists': True,\n",
       "   'tall': '120-180',\n",
       "   'is_short_sleeve': False,\n",
       "   'age': 'middle-age',\n",
       "   'outer_exists': True}}]"
      ]
     },
     "execution_count": 3,
     "metadata": {},
     "output_type": "execute_result"
    }
   ],
   "source": [
    "df['individual_factors'].iloc[0]"
   ]
  },
  {
   "cell_type": "markdown",
   "metadata": {},
   "source": [
    "#### => nested 구조이고 individual_fators 만 값이 리스트 형태로 존재\n",
    "#### => individual_factors 컬럼 값 수정 (리스트 안의 값을 밖으로)"
   ]
  },
  {
   "cell_type": "code",
   "execution_count": 4,
   "metadata": {
    "scrolled": true
   },
   "outputs": [],
   "source": [
    "df['individual_factors']=[li[0] for li in df['individual_factors']]"
   ]
  },
  {
   "cell_type": "markdown",
   "metadata": {},
   "source": [
    "#### nested 구조를 각각의 값을 컬럼으로 가진 데이터프레임으로 변경"
   ]
  },
  {
   "cell_type": "code",
   "execution_count": 5,
   "metadata": {
    "scrolled": false
   },
   "outputs": [],
   "source": [
    "json_struct = json.loads(df.to_json(orient=\"records\"))    \n",
    "df_flat = pd.io.json.json_normalize(json_struct)"
   ]
  },
  {
   "cell_type": "code",
   "execution_count": 6,
   "metadata": {},
   "outputs": [
    {
     "data": {
      "text/html": [
       "<div>\n",
       "<style scoped>\n",
       "    .dataframe tbody tr th:only-of-type {\n",
       "        vertical-align: middle;\n",
       "    }\n",
       "\n",
       "    .dataframe tbody tr th {\n",
       "        vertical-align: top;\n",
       "    }\n",
       "\n",
       "    .dataframe thead th {\n",
       "        text-align: right;\n",
       "    }\n",
       "</style>\n",
       "<table border=\"1\" class=\"dataframe\">\n",
       "  <thead>\n",
       "    <tr style=\"text-align: right;\">\n",
       "      <th></th>\n",
       "      <th>environmental_factors.camera_type</th>\n",
       "      <th>environmental_factors.day</th>\n",
       "      <th>environmental_factors.hms</th>\n",
       "      <th>environmental_factors.humid_inside</th>\n",
       "      <th>environmental_factors.humid_outside</th>\n",
       "      <th>environmental_factors.illumination</th>\n",
       "      <th>environmental_factors.image_type</th>\n",
       "      <th>environmental_factors.place</th>\n",
       "      <th>environmental_factors.temp_inside</th>\n",
       "      <th>environmental_factors.temp_outside</th>\n",
       "      <th>...</th>\n",
       "      <th>individual_factors.optional.outer_exists</th>\n",
       "      <th>individual_factors.optional.tall</th>\n",
       "      <th>technical_factors.bbody_emissivity</th>\n",
       "      <th>technical_factors.bbody_temp</th>\n",
       "      <th>technical_factors.model</th>\n",
       "      <th>technical_factors.netd</th>\n",
       "      <th>technical_factors.range_of_spectrum</th>\n",
       "      <th>technical_factors.resolution</th>\n",
       "      <th>technical_factors.temperature_accuracy</th>\n",
       "      <th>technical_factors.temperature_range</th>\n",
       "    </tr>\n",
       "  </thead>\n",
       "  <tbody>\n",
       "    <tr>\n",
       "      <th>0</th>\n",
       "      <td>H</td>\n",
       "      <td>20201110</td>\n",
       "      <td>120952</td>\n",
       "      <td>23.0</td>\n",
       "      <td>30.0</td>\n",
       "      <td>328</td>\n",
       "      <td>T</td>\n",
       "      <td>A1</td>\n",
       "      <td>21.3</td>\n",
       "      <td>12.1</td>\n",
       "      <td>...</td>\n",
       "      <td>True</td>\n",
       "      <td>120-180</td>\n",
       "      <td>0.97\\u00b10.02</td>\n",
       "      <td>35\\u2103</td>\n",
       "      <td>DH-TPC-BF3221-T</td>\n",
       "      <td>\\u226450mK</td>\n",
       "      <td>8~14\\u339b</td>\n",
       "      <td>1280x960</td>\n",
       "      <td>\\u00b10.3\\u2103 w/blackbody</td>\n",
       "      <td>30~45\\u2103</td>\n",
       "    </tr>\n",
       "    <tr>\n",
       "      <th>1</th>\n",
       "      <td>H</td>\n",
       "      <td>20201110</td>\n",
       "      <td>122515</td>\n",
       "      <td>23.0</td>\n",
       "      <td>30.0</td>\n",
       "      <td>328</td>\n",
       "      <td>T</td>\n",
       "      <td>A1</td>\n",
       "      <td>21.3</td>\n",
       "      <td>12.1</td>\n",
       "      <td>...</td>\n",
       "      <td>True</td>\n",
       "      <td>120-180</td>\n",
       "      <td>0.97\\u00b10.02</td>\n",
       "      <td>35\\u2103</td>\n",
       "      <td>DH-TPC-BF3221-T</td>\n",
       "      <td>\\u226450mK</td>\n",
       "      <td>8~14\\u339b</td>\n",
       "      <td>1280x960</td>\n",
       "      <td>\\u00b10.3\\u2103 w/blackbody</td>\n",
       "      <td>30~45\\u2103</td>\n",
       "    </tr>\n",
       "    <tr>\n",
       "      <th>2</th>\n",
       "      <td>H</td>\n",
       "      <td>20201110</td>\n",
       "      <td>124310</td>\n",
       "      <td>23.0</td>\n",
       "      <td>30.0</td>\n",
       "      <td>328</td>\n",
       "      <td>T</td>\n",
       "      <td>A1</td>\n",
       "      <td>21.3</td>\n",
       "      <td>12.1</td>\n",
       "      <td>...</td>\n",
       "      <td>False</td>\n",
       "      <td>120-180</td>\n",
       "      <td>0.97\\u00b10.02</td>\n",
       "      <td>35\\u2103</td>\n",
       "      <td>DH-TPC-BF3221-T</td>\n",
       "      <td>\\u226450mK</td>\n",
       "      <td>8~14\\u339b</td>\n",
       "      <td>1280x960</td>\n",
       "      <td>\\u00b10.3\\u2103 w/blackbody</td>\n",
       "      <td>30~45\\u2103</td>\n",
       "    </tr>\n",
       "    <tr>\n",
       "      <th>3</th>\n",
       "      <td>H</td>\n",
       "      <td>20201110</td>\n",
       "      <td>125954</td>\n",
       "      <td>23.0</td>\n",
       "      <td>30.0</td>\n",
       "      <td>328</td>\n",
       "      <td>T</td>\n",
       "      <td>A1</td>\n",
       "      <td>21.3</td>\n",
       "      <td>12.1</td>\n",
       "      <td>...</td>\n",
       "      <td>False</td>\n",
       "      <td>120-180</td>\n",
       "      <td>0.97\\u00b10.02</td>\n",
       "      <td>35\\u2103</td>\n",
       "      <td>DH-TPC-BF3221-T</td>\n",
       "      <td>\\u226450mK</td>\n",
       "      <td>8~14\\u339b</td>\n",
       "      <td>1280x960</td>\n",
       "      <td>\\u00b10.3\\u2103 w/blackbody</td>\n",
       "      <td>30~45\\u2103</td>\n",
       "    </tr>\n",
       "    <tr>\n",
       "      <th>4</th>\n",
       "      <td>H</td>\n",
       "      <td>20201110</td>\n",
       "      <td>131527</td>\n",
       "      <td>23.0</td>\n",
       "      <td>30.0</td>\n",
       "      <td>326</td>\n",
       "      <td>T</td>\n",
       "      <td>A1</td>\n",
       "      <td>22.0</td>\n",
       "      <td>12.2</td>\n",
       "      <td>...</td>\n",
       "      <td>False</td>\n",
       "      <td>120-180</td>\n",
       "      <td>0.97\\u00b10.02</td>\n",
       "      <td>35\\u2103</td>\n",
       "      <td>DH-TPC-BF3221-T</td>\n",
       "      <td>\\u226450mK</td>\n",
       "      <td>8~14\\u339b</td>\n",
       "      <td>1280x960</td>\n",
       "      <td>\\u00b10.3\\u2103 w/blackbody</td>\n",
       "      <td>30~45\\u2103</td>\n",
       "    </tr>\n",
       "  </tbody>\n",
       "</table>\n",
       "<p>5 rows × 31 columns</p>\n",
       "</div>"
      ],
      "text/plain": [
       "  environmental_factors.camera_type environmental_factors.day  \\\n",
       "0                                 H                  20201110   \n",
       "1                                 H                  20201110   \n",
       "2                                 H                  20201110   \n",
       "3                                 H                  20201110   \n",
       "4                                 H                  20201110   \n",
       "\n",
       "  environmental_factors.hms  environmental_factors.humid_inside  \\\n",
       "0                    120952                                23.0   \n",
       "1                    122515                                23.0   \n",
       "2                    124310                                23.0   \n",
       "3                    125954                                23.0   \n",
       "4                    131527                                23.0   \n",
       "\n",
       "   environmental_factors.humid_outside  environmental_factors.illumination  \\\n",
       "0                                 30.0                                 328   \n",
       "1                                 30.0                                 328   \n",
       "2                                 30.0                                 328   \n",
       "3                                 30.0                                 328   \n",
       "4                                 30.0                                 326   \n",
       "\n",
       "  environmental_factors.image_type environmental_factors.place  \\\n",
       "0                                T                          A1   \n",
       "1                                T                          A1   \n",
       "2                                T                          A1   \n",
       "3                                T                          A1   \n",
       "4                                T                          A1   \n",
       "\n",
       "   environmental_factors.temp_inside  environmental_factors.temp_outside  \\\n",
       "0                               21.3                                12.1   \n",
       "1                               21.3                                12.1   \n",
       "2                               21.3                                12.1   \n",
       "3                               21.3                                12.1   \n",
       "4                               22.0                                12.2   \n",
       "\n",
       "                  ...                   \\\n",
       "0                 ...                    \n",
       "1                 ...                    \n",
       "2                 ...                    \n",
       "3                 ...                    \n",
       "4                 ...                    \n",
       "\n",
       "   individual_factors.optional.outer_exists individual_factors.optional.tall  \\\n",
       "0                                      True                          120-180   \n",
       "1                                      True                          120-180   \n",
       "2                                     False                          120-180   \n",
       "3                                     False                          120-180   \n",
       "4                                     False                          120-180   \n",
       "\n",
       "  technical_factors.bbody_emissivity  technical_factors.bbody_temp  \\\n",
       "0                     0.97\\u00b10.02                      35\\u2103   \n",
       "1                     0.97\\u00b10.02                      35\\u2103   \n",
       "2                     0.97\\u00b10.02                      35\\u2103   \n",
       "3                     0.97\\u00b10.02                      35\\u2103   \n",
       "4                     0.97\\u00b10.02                      35\\u2103   \n",
       "\n",
       "   technical_factors.model  technical_factors.netd  \\\n",
       "0          DH-TPC-BF3221-T              \\u226450mK   \n",
       "1          DH-TPC-BF3221-T              \\u226450mK   \n",
       "2          DH-TPC-BF3221-T              \\u226450mK   \n",
       "3          DH-TPC-BF3221-T              \\u226450mK   \n",
       "4          DH-TPC-BF3221-T              \\u226450mK   \n",
       "\n",
       "  technical_factors.range_of_spectrum technical_factors.resolution  \\\n",
       "0                          8~14\\u339b                     1280x960   \n",
       "1                          8~14\\u339b                     1280x960   \n",
       "2                          8~14\\u339b                     1280x960   \n",
       "3                          8~14\\u339b                     1280x960   \n",
       "4                          8~14\\u339b                     1280x960   \n",
       "\n",
       "  technical_factors.temperature_accuracy  technical_factors.temperature_range  \n",
       "0            \\u00b10.3\\u2103 w/blackbody                          30~45\\u2103  \n",
       "1            \\u00b10.3\\u2103 w/blackbody                          30~45\\u2103  \n",
       "2            \\u00b10.3\\u2103 w/blackbody                          30~45\\u2103  \n",
       "3            \\u00b10.3\\u2103 w/blackbody                          30~45\\u2103  \n",
       "4            \\u00b10.3\\u2103 w/blackbody                          30~45\\u2103  \n",
       "\n",
       "[5 rows x 31 columns]"
      ]
     },
     "execution_count": 6,
     "metadata": {},
     "output_type": "execute_result"
    }
   ],
   "source": [
    "df_flat.head()"
   ]
  },
  {
   "cell_type": "markdown",
   "metadata": {},
   "source": [
    "#### 컬럼명 수정"
   ]
  },
  {
   "cell_type": "code",
   "execution_count": 7,
   "metadata": {
    "scrolled": true
   },
   "outputs": [
    {
     "data": {
      "text/html": [
       "<div>\n",
       "<style scoped>\n",
       "    .dataframe tbody tr th:only-of-type {\n",
       "        vertical-align: middle;\n",
       "    }\n",
       "\n",
       "    .dataframe tbody tr th {\n",
       "        vertical-align: top;\n",
       "    }\n",
       "\n",
       "    .dataframe thead th {\n",
       "        text-align: right;\n",
       "    }\n",
       "</style>\n",
       "<table border=\"1\" class=\"dataframe\">\n",
       "  <thead>\n",
       "    <tr style=\"text-align: right;\">\n",
       "      <th></th>\n",
       "      <th>camera_type</th>\n",
       "      <th>day</th>\n",
       "      <th>hms</th>\n",
       "      <th>humid_inside</th>\n",
       "      <th>humid_outside</th>\n",
       "      <th>illumination</th>\n",
       "      <th>image_type</th>\n",
       "      <th>place</th>\n",
       "      <th>temp_inside</th>\n",
       "      <th>temp_outside</th>\n",
       "      <th>...</th>\n",
       "      <th>outer_exists</th>\n",
       "      <th>tall</th>\n",
       "      <th>bbody_emissivity</th>\n",
       "      <th>bbody_temp</th>\n",
       "      <th>model</th>\n",
       "      <th>netd</th>\n",
       "      <th>range_of_spectrum</th>\n",
       "      <th>resolution</th>\n",
       "      <th>temperature_accuracy</th>\n",
       "      <th>temperature_range</th>\n",
       "    </tr>\n",
       "  </thead>\n",
       "  <tbody>\n",
       "    <tr>\n",
       "      <th>0</th>\n",
       "      <td>H</td>\n",
       "      <td>20201110</td>\n",
       "      <td>120952</td>\n",
       "      <td>23.0</td>\n",
       "      <td>30.0</td>\n",
       "      <td>328</td>\n",
       "      <td>T</td>\n",
       "      <td>A1</td>\n",
       "      <td>21.3</td>\n",
       "      <td>12.1</td>\n",
       "      <td>...</td>\n",
       "      <td>True</td>\n",
       "      <td>120-180</td>\n",
       "      <td>0.97\\u00b10.02</td>\n",
       "      <td>35\\u2103</td>\n",
       "      <td>DH-TPC-BF3221-T</td>\n",
       "      <td>\\u226450mK</td>\n",
       "      <td>8~14\\u339b</td>\n",
       "      <td>1280x960</td>\n",
       "      <td>\\u00b10.3\\u2103 w/blackbody</td>\n",
       "      <td>30~45\\u2103</td>\n",
       "    </tr>\n",
       "    <tr>\n",
       "      <th>1</th>\n",
       "      <td>H</td>\n",
       "      <td>20201110</td>\n",
       "      <td>122515</td>\n",
       "      <td>23.0</td>\n",
       "      <td>30.0</td>\n",
       "      <td>328</td>\n",
       "      <td>T</td>\n",
       "      <td>A1</td>\n",
       "      <td>21.3</td>\n",
       "      <td>12.1</td>\n",
       "      <td>...</td>\n",
       "      <td>True</td>\n",
       "      <td>120-180</td>\n",
       "      <td>0.97\\u00b10.02</td>\n",
       "      <td>35\\u2103</td>\n",
       "      <td>DH-TPC-BF3221-T</td>\n",
       "      <td>\\u226450mK</td>\n",
       "      <td>8~14\\u339b</td>\n",
       "      <td>1280x960</td>\n",
       "      <td>\\u00b10.3\\u2103 w/blackbody</td>\n",
       "      <td>30~45\\u2103</td>\n",
       "    </tr>\n",
       "    <tr>\n",
       "      <th>2</th>\n",
       "      <td>H</td>\n",
       "      <td>20201110</td>\n",
       "      <td>124310</td>\n",
       "      <td>23.0</td>\n",
       "      <td>30.0</td>\n",
       "      <td>328</td>\n",
       "      <td>T</td>\n",
       "      <td>A1</td>\n",
       "      <td>21.3</td>\n",
       "      <td>12.1</td>\n",
       "      <td>...</td>\n",
       "      <td>False</td>\n",
       "      <td>120-180</td>\n",
       "      <td>0.97\\u00b10.02</td>\n",
       "      <td>35\\u2103</td>\n",
       "      <td>DH-TPC-BF3221-T</td>\n",
       "      <td>\\u226450mK</td>\n",
       "      <td>8~14\\u339b</td>\n",
       "      <td>1280x960</td>\n",
       "      <td>\\u00b10.3\\u2103 w/blackbody</td>\n",
       "      <td>30~45\\u2103</td>\n",
       "    </tr>\n",
       "    <tr>\n",
       "      <th>3</th>\n",
       "      <td>H</td>\n",
       "      <td>20201110</td>\n",
       "      <td>125954</td>\n",
       "      <td>23.0</td>\n",
       "      <td>30.0</td>\n",
       "      <td>328</td>\n",
       "      <td>T</td>\n",
       "      <td>A1</td>\n",
       "      <td>21.3</td>\n",
       "      <td>12.1</td>\n",
       "      <td>...</td>\n",
       "      <td>False</td>\n",
       "      <td>120-180</td>\n",
       "      <td>0.97\\u00b10.02</td>\n",
       "      <td>35\\u2103</td>\n",
       "      <td>DH-TPC-BF3221-T</td>\n",
       "      <td>\\u226450mK</td>\n",
       "      <td>8~14\\u339b</td>\n",
       "      <td>1280x960</td>\n",
       "      <td>\\u00b10.3\\u2103 w/blackbody</td>\n",
       "      <td>30~45\\u2103</td>\n",
       "    </tr>\n",
       "    <tr>\n",
       "      <th>4</th>\n",
       "      <td>H</td>\n",
       "      <td>20201110</td>\n",
       "      <td>131527</td>\n",
       "      <td>23.0</td>\n",
       "      <td>30.0</td>\n",
       "      <td>326</td>\n",
       "      <td>T</td>\n",
       "      <td>A1</td>\n",
       "      <td>22.0</td>\n",
       "      <td>12.2</td>\n",
       "      <td>...</td>\n",
       "      <td>False</td>\n",
       "      <td>120-180</td>\n",
       "      <td>0.97\\u00b10.02</td>\n",
       "      <td>35\\u2103</td>\n",
       "      <td>DH-TPC-BF3221-T</td>\n",
       "      <td>\\u226450mK</td>\n",
       "      <td>8~14\\u339b</td>\n",
       "      <td>1280x960</td>\n",
       "      <td>\\u00b10.3\\u2103 w/blackbody</td>\n",
       "      <td>30~45\\u2103</td>\n",
       "    </tr>\n",
       "  </tbody>\n",
       "</table>\n",
       "<p>5 rows × 31 columns</p>\n",
       "</div>"
      ],
      "text/plain": [
       "  camera_type       day     hms  humid_inside  humid_outside  illumination  \\\n",
       "0           H  20201110  120952          23.0           30.0           328   \n",
       "1           H  20201110  122515          23.0           30.0           328   \n",
       "2           H  20201110  124310          23.0           30.0           328   \n",
       "3           H  20201110  125954          23.0           30.0           328   \n",
       "4           H  20201110  131527          23.0           30.0           326   \n",
       "\n",
       "  image_type place  temp_inside  temp_outside        ...          \\\n",
       "0          T    A1         21.3          12.1        ...           \n",
       "1          T    A1         21.3          12.1        ...           \n",
       "2          T    A1         21.3          12.1        ...           \n",
       "3          T    A1         21.3          12.1        ...           \n",
       "4          T    A1         22.0          12.2        ...           \n",
       "\n",
       "   outer_exists     tall bbody_emissivity  bbody_temp            model  \\\n",
       "0          True  120-180   0.97\\u00b10.02    35\\u2103  DH-TPC-BF3221-T   \n",
       "1          True  120-180   0.97\\u00b10.02    35\\u2103  DH-TPC-BF3221-T   \n",
       "2         False  120-180   0.97\\u00b10.02    35\\u2103  DH-TPC-BF3221-T   \n",
       "3         False  120-180   0.97\\u00b10.02    35\\u2103  DH-TPC-BF3221-T   \n",
       "4         False  120-180   0.97\\u00b10.02    35\\u2103  DH-TPC-BF3221-T   \n",
       "\n",
       "         netd range_of_spectrum resolution         temperature_accuracy  \\\n",
       "0  \\u226450mK        8~14\\u339b   1280x960  \\u00b10.3\\u2103 w/blackbody   \n",
       "1  \\u226450mK        8~14\\u339b   1280x960  \\u00b10.3\\u2103 w/blackbody   \n",
       "2  \\u226450mK        8~14\\u339b   1280x960  \\u00b10.3\\u2103 w/blackbody   \n",
       "3  \\u226450mK        8~14\\u339b   1280x960  \\u00b10.3\\u2103 w/blackbody   \n",
       "4  \\u226450mK        8~14\\u339b   1280x960  \\u00b10.3\\u2103 w/blackbody   \n",
       "\n",
       "   temperature_range  \n",
       "0        30~45\\u2103  \n",
       "1        30~45\\u2103  \n",
       "2        30~45\\u2103  \n",
       "3        30~45\\u2103  \n",
       "4        30~45\\u2103  \n",
       "\n",
       "[5 rows x 31 columns]"
      ]
     },
     "execution_count": 7,
     "metadata": {},
     "output_type": "execute_result"
    }
   ],
   "source": [
    "df_flat.columns=[c.split('.')[-1] for c in df_flat.columns]\n",
    "df_flat.head()\n"
   ]
  },
  {
   "cell_type": "markdown",
   "metadata": {},
   "source": [
    "#### unicode 값을 수정"
   ]
  },
  {
   "cell_type": "code",
   "execution_count": 8,
   "metadata": {
    "scrolled": false
   },
   "outputs": [
    {
     "data": {
      "text/plain": [
       "{'bbody_temp': '35\\\\u2103',\n",
       " 'netd': '\\\\u226450mK',\n",
       " 'range_of_spectrum': '8~14\\\\u339b',\n",
       " 'model': 'DH-TPC-BF3221-T',\n",
       " 'temperature_range': '30~45\\\\u2103',\n",
       " 'temperature_accuracy': '\\\\u00b10.3\\\\u2103 w/blackbody',\n",
       " 'resolution': '1280x960',\n",
       " 'bbody_emissivity': '0.97\\\\u00b10.02'}"
      ]
     },
     "execution_count": 8,
     "metadata": {},
     "output_type": "execute_result"
    }
   ],
   "source": [
    "df['technical_factors'].iloc[0]"
   ]
  },
  {
   "cell_type": "code",
   "execution_count": 9,
   "metadata": {},
   "outputs": [
    {
     "data": {
      "text/plain": [
       "'35\\\\u2103'"
      ]
     },
     "execution_count": 9,
     "metadata": {},
     "output_type": "execute_result"
    }
   ],
   "source": [
    "df['technical_factors'].iloc[0]['bbody_temp']"
   ]
  },
  {
   "cell_type": "code",
   "execution_count": 10,
   "metadata": {},
   "outputs": [
    {
     "data": {
      "text/plain": [
       "'35℃'"
      ]
     },
     "execution_count": 10,
     "metadata": {},
     "output_type": "execute_result"
    }
   ],
   "source": [
    "df['technical_factors'].iloc[0]['bbody_temp'].replace(\"\\\\/\", \"/\").encode().decode('unicode_escape')"
   ]
  },
  {
   "cell_type": "code",
   "execution_count": 11,
   "metadata": {},
   "outputs": [],
   "source": [
    "df_flat.bbody_temp = [s.encode().decode('unicode_escape') for s in df_flat.bbody_temp]"
   ]
  },
  {
   "cell_type": "code",
   "execution_count": 12,
   "metadata": {},
   "outputs": [
    {
     "data": {
      "text/plain": [
       "Index(['camera_type', 'day', 'hms', 'humid_inside', 'humid_outside',\n",
       "       'illumination', 'image_type', 'place', 'temp_inside', 'temp_outside',\n",
       "       'wind', 'image_id', 'bbox', 'camera_temp', 'distance',\n",
       "       'individual_temp', 'age', 'body_type', 'gender', 'is_short_sleeve',\n",
       "       'mask_exists', 'outer_exists', 'tall', 'bbody_emissivity', 'bbody_temp',\n",
       "       'model', 'netd', 'range_of_spectrum', 'resolution',\n",
       "       'temperature_accuracy', 'temperature_range'],\n",
       "      dtype='object')"
      ]
     },
     "execution_count": 12,
     "metadata": {},
     "output_type": "execute_result"
    }
   ],
   "source": [
    "df_flat.columns"
   ]
  },
  {
   "cell_type": "markdown",
   "metadata": {},
   "source": [
    "#### 필요한 컬럼만을 가져와서 새로운 데이터 프레임 생성"
   ]
  },
  {
   "cell_type": "code",
   "execution_count": 13,
   "metadata": {
    "scrolled": true
   },
   "outputs": [
    {
     "data": {
      "text/html": [
       "<div>\n",
       "<style scoped>\n",
       "    .dataframe tbody tr th:only-of-type {\n",
       "        vertical-align: middle;\n",
       "    }\n",
       "\n",
       "    .dataframe tbody tr th {\n",
       "        vertical-align: top;\n",
       "    }\n",
       "\n",
       "    .dataframe thead th {\n",
       "        text-align: right;\n",
       "    }\n",
       "</style>\n",
       "<table border=\"1\" class=\"dataframe\">\n",
       "  <thead>\n",
       "    <tr style=\"text-align: right;\">\n",
       "      <th></th>\n",
       "      <th>image_id</th>\n",
       "      <th>temp_inside</th>\n",
       "      <th>humid_inside</th>\n",
       "      <th>outer_exists</th>\n",
       "      <th>camera_temp</th>\n",
       "      <th>individual_temp</th>\n",
       "      <th>distance</th>\n",
       "      <th>bbox</th>\n",
       "      <th>gender</th>\n",
       "      <th>mask_exists</th>\n",
       "    </tr>\n",
       "  </thead>\n",
       "  <tbody>\n",
       "    <tr>\n",
       "      <th>0</th>\n",
       "      <td>A1_H_T_20201110_120952</td>\n",
       "      <td>21.3</td>\n",
       "      <td>23.0</td>\n",
       "      <td>True</td>\n",
       "      <td>35.9</td>\n",
       "      <td>36.1</td>\n",
       "      <td>5</td>\n",
       "      <td>[898, 506, 224, 235]</td>\n",
       "      <td>male</td>\n",
       "      <td>True</td>\n",
       "    </tr>\n",
       "    <tr>\n",
       "      <th>1</th>\n",
       "      <td>A1_H_T_20201110_122515</td>\n",
       "      <td>21.3</td>\n",
       "      <td>23.0</td>\n",
       "      <td>True</td>\n",
       "      <td>36.3</td>\n",
       "      <td>36.7</td>\n",
       "      <td>5</td>\n",
       "      <td>[696, 469, 231, 245]</td>\n",
       "      <td>male</td>\n",
       "      <td>True</td>\n",
       "    </tr>\n",
       "    <tr>\n",
       "      <th>2</th>\n",
       "      <td>A1_H_T_20201110_124310</td>\n",
       "      <td>21.3</td>\n",
       "      <td>23.0</td>\n",
       "      <td>False</td>\n",
       "      <td>36.9</td>\n",
       "      <td>37.3</td>\n",
       "      <td>5</td>\n",
       "      <td>[488, 549, 175, 141]</td>\n",
       "      <td>female</td>\n",
       "      <td>True</td>\n",
       "    </tr>\n",
       "    <tr>\n",
       "      <th>3</th>\n",
       "      <td>A1_H_T_20201110_125954</td>\n",
       "      <td>21.3</td>\n",
       "      <td>23.0</td>\n",
       "      <td>False</td>\n",
       "      <td>36.1</td>\n",
       "      <td>36.8</td>\n",
       "      <td>5</td>\n",
       "      <td>[643, 533, 217, 180]</td>\n",
       "      <td>female</td>\n",
       "      <td>True</td>\n",
       "    </tr>\n",
       "    <tr>\n",
       "      <th>4</th>\n",
       "      <td>A1_H_T_20201110_131527</td>\n",
       "      <td>22.0</td>\n",
       "      <td>23.0</td>\n",
       "      <td>False</td>\n",
       "      <td>36.9</td>\n",
       "      <td>36.6</td>\n",
       "      <td>5</td>\n",
       "      <td>[256, 549, 214, 222]</td>\n",
       "      <td>male</td>\n",
       "      <td>True</td>\n",
       "    </tr>\n",
       "  </tbody>\n",
       "</table>\n",
       "</div>"
      ],
      "text/plain": [
       "                 image_id  temp_inside  humid_inside  outer_exists  \\\n",
       "0  A1_H_T_20201110_120952         21.3          23.0          True   \n",
       "1  A1_H_T_20201110_122515         21.3          23.0          True   \n",
       "2  A1_H_T_20201110_124310         21.3          23.0         False   \n",
       "3  A1_H_T_20201110_125954         21.3          23.0         False   \n",
       "4  A1_H_T_20201110_131527         22.0          23.0         False   \n",
       "\n",
       "   camera_temp  individual_temp  distance                  bbox  gender  \\\n",
       "0         35.9             36.1         5  [898, 506, 224, 235]    male   \n",
       "1         36.3             36.7         5  [696, 469, 231, 245]    male   \n",
       "2         36.9             37.3         5  [488, 549, 175, 141]  female   \n",
       "3         36.1             36.8         5  [643, 533, 217, 180]  female   \n",
       "4         36.9             36.6         5  [256, 549, 214, 222]    male   \n",
       "\n",
       "   mask_exists  \n",
       "0         True  \n",
       "1         True  \n",
       "2         True  \n",
       "3         True  \n",
       "4         True  "
      ]
     },
     "execution_count": 13,
     "metadata": {},
     "output_type": "execute_result"
    }
   ],
   "source": [
    "dff =df_flat[['image_id','temp_inside','humid_inside',\n",
    "              'outer_exists','camera_temp','individual_temp',\n",
    "              'distance','bbox','gender','mask_exists']]\n",
    "dff.head()"
   ]
  },
  {
   "cell_type": "code",
   "execution_count": 17,
   "metadata": {},
   "outputs": [
    {
     "data": {
      "text/html": [
       "<div>\n",
       "<style scoped>\n",
       "    .dataframe tbody tr th:only-of-type {\n",
       "        vertical-align: middle;\n",
       "    }\n",
       "\n",
       "    .dataframe tbody tr th {\n",
       "        vertical-align: top;\n",
       "    }\n",
       "\n",
       "    .dataframe thead th {\n",
       "        text-align: right;\n",
       "    }\n",
       "</style>\n",
       "<table border=\"1\" class=\"dataframe\">\n",
       "  <thead>\n",
       "    <tr style=\"text-align: right;\">\n",
       "      <th></th>\n",
       "      <th>environmental_factors</th>\n",
       "      <th>image_id</th>\n",
       "      <th>individual_factors</th>\n",
       "      <th>technical_factors</th>\n",
       "    </tr>\n",
       "  </thead>\n",
       "  <tbody>\n",
       "    <tr>\n",
       "      <th>0</th>\n",
       "      <td>{'illumination': 328, 'temp_inside': 21.3, 'ca...</td>\n",
       "      <td>A1_H_T_20201110_120952</td>\n",
       "      <td>{'camera_temp': 35.9, 'individual_temp': 36.1,...</td>\n",
       "      <td>{'bbody_temp': '35\\u2103', 'netd': '\\u226450mK...</td>\n",
       "    </tr>\n",
       "    <tr>\n",
       "      <th>1</th>\n",
       "      <td>{'illumination': 328, 'temp_inside': 21.3, 'ca...</td>\n",
       "      <td>A1_H_T_20201110_122515</td>\n",
       "      <td>{'camera_temp': 36.3, 'individual_temp': 36.7,...</td>\n",
       "      <td>{'bbody_temp': '35\\u2103', 'netd': '\\u226450mK...</td>\n",
       "    </tr>\n",
       "    <tr>\n",
       "      <th>2</th>\n",
       "      <td>{'illumination': 328, 'temp_inside': 21.3, 'ca...</td>\n",
       "      <td>A1_H_T_20201110_124310</td>\n",
       "      <td>{'camera_temp': 36.9, 'individual_temp': 37.3,...</td>\n",
       "      <td>{'bbody_temp': '35\\u2103', 'netd': '\\u226450mK...</td>\n",
       "    </tr>\n",
       "    <tr>\n",
       "      <th>3</th>\n",
       "      <td>{'illumination': 328, 'temp_inside': 21.3, 'ca...</td>\n",
       "      <td>A1_H_T_20201110_125954</td>\n",
       "      <td>{'camera_temp': 36.1, 'individual_temp': 36.8,...</td>\n",
       "      <td>{'bbody_temp': '35\\u2103', 'netd': '\\u226450mK...</td>\n",
       "    </tr>\n",
       "    <tr>\n",
       "      <th>4</th>\n",
       "      <td>{'illumination': 326, 'temp_inside': 22.0, 'ca...</td>\n",
       "      <td>A1_H_T_20201110_131527</td>\n",
       "      <td>{'camera_temp': 36.9, 'individual_temp': 36.6,...</td>\n",
       "      <td>{'bbody_temp': '35\\u2103', 'netd': '\\u226450mK...</td>\n",
       "    </tr>\n",
       "  </tbody>\n",
       "</table>\n",
       "</div>"
      ],
      "text/plain": [
       "                               environmental_factors                image_id  \\\n",
       "0  {'illumination': 328, 'temp_inside': 21.3, 'ca...  A1_H_T_20201110_120952   \n",
       "1  {'illumination': 328, 'temp_inside': 21.3, 'ca...  A1_H_T_20201110_122515   \n",
       "2  {'illumination': 328, 'temp_inside': 21.3, 'ca...  A1_H_T_20201110_124310   \n",
       "3  {'illumination': 328, 'temp_inside': 21.3, 'ca...  A1_H_T_20201110_125954   \n",
       "4  {'illumination': 326, 'temp_inside': 22.0, 'ca...  A1_H_T_20201110_131527   \n",
       "\n",
       "                                  individual_factors  \\\n",
       "0  {'camera_temp': 35.9, 'individual_temp': 36.1,...   \n",
       "1  {'camera_temp': 36.3, 'individual_temp': 36.7,...   \n",
       "2  {'camera_temp': 36.9, 'individual_temp': 37.3,...   \n",
       "3  {'camera_temp': 36.1, 'individual_temp': 36.8,...   \n",
       "4  {'camera_temp': 36.9, 'individual_temp': 36.6,...   \n",
       "\n",
       "                                   technical_factors  \n",
       "0  {'bbody_temp': '35\\u2103', 'netd': '\\u226450mK...  \n",
       "1  {'bbody_temp': '35\\u2103', 'netd': '\\u226450mK...  \n",
       "2  {'bbody_temp': '35\\u2103', 'netd': '\\u226450mK...  \n",
       "3  {'bbody_temp': '35\\u2103', 'netd': '\\u226450mK...  \n",
       "4  {'bbody_temp': '35\\u2103', 'netd': '\\u226450mK...  "
      ]
     },
     "execution_count": 17,
     "metadata": {},
     "output_type": "execute_result"
    }
   ],
   "source": [
    "df.head()"
   ]
  },
  {
   "cell_type": "markdown",
   "metadata": {},
   "source": [
    "#### 전체 열화상이미지에서 얼굴로 인식된 부분 추출 "
   ]
  },
  {
   "cell_type": "code",
   "execution_count": 24,
   "metadata": {},
   "outputs": [
    {
     "name": "stdout",
     "output_type": "stream",
     "text": [
      "factor: {'camera_temp': 36.5, 'individual_temp': 36.8, 'distance': 5, 'bbox': [795, 373, 197, 222], 'optional': {'gender': 'male', 'body_type': 'normal', 'mask_exists': True, 'tall': '120-180', 'is_short_sleeve': False, 'age': 'youth', 'outer_exists': False}}\n",
      "--------------------------------------------------\n",
      "bounding_box:[795, 373, 197, 222]\n"
     ]
    },
    {
     "data": {
      "text/plain": [
       "<matplotlib.image.AxesImage at 0x10918d6d8>"
      ]
     },
     "execution_count": 24,
     "metadata": {},
     "output_type": "execute_result"
    },
    {
     "data": {
      "image/png": "[encoded data removed]",
      "text/plain": [
       "<Figure size 432x288 with 1 Axes>"
      ]
     },
     "metadata": {
      "needs_background": "light"
     },
     "output_type": "display_data"
    }
   ],
   "source": [
    "images = os.listdir('./json_100/json_100')\n",
    "image = images[0]\n",
    "\n",
    "name = image.split('.')[0]\n",
    "temp= df.loc[df['image_id']==name]['individual_factors'].iloc[0]\n",
    "print(f'factor: {temp}')\n",
    "bbox = temp['bbox']\n",
    "print('-'*50)\n",
    "print(f'bounding_box:{bbox}')\n",
    "\n",
    "img = cv2.imread('./json_100/json_100/'+image)\n",
    "img = cv2.cvtColor(img, cv2.COLOR_BGR2RGB)\n",
    "img = img[bbox[1]:bbox[1]+bbox[3],bbox[0]:bbox[0]+bbox[3]]\n",
    "plt.imshow(img)"
   ]
  },
  {
   "cell_type": "markdown",
   "metadata": {},
   "source": [
    "#### 열화상 이미지의 평균값을 구함"
   ]
  },
  {
   "cell_type": "code",
   "execution_count": 25,
   "metadata": {},
   "outputs": [
    {
     "name": "stdout",
     "output_type": "stream",
     "text": [
      "219.08087817547278\n",
      "151.78138949760572\n",
      "87.58838568298027\n"
     ]
    }
   ],
   "source": [
    "import numpy as np\n",
    "\n",
    "print(np.mean(img[:,:,0]))\n",
    "print(np.mean(img[:,:,1]))\n",
    "print(np.mean(img[:,:,2]))"
   ]
  },
  {
   "cell_type": "code",
   "execution_count": null,
   "metadata": {},
   "outputs": [],
   "source": []
  }
 ],
 "metadata": {
  "kernelspec": {
   "display_name": "Python 3",
   "language": "python",
   "name": "python3"
  },
  "language_info": {
   "codemirror_mode": {
    "name": "ipython",
    "version": 3
   },
   "file_extension": ".py",
   "mimetype": "text/x-python",
   "name": "python",
   "nbconvert_exporter": "python",
   "pygments_lexer": "ipython3",
   "version": "3.7.1"
  }
 },
 "nbformat": 4,
 "nbformat_minor": 4
}
